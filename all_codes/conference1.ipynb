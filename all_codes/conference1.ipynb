{
  "nbformat": 4,
  "nbformat_minor": 0,
  "metadata": {
    "colab": {
      "name": "conference1.ipynb",
      "provenance": [],
      "collapsed_sections": []
    },
    "kernelspec": {
      "name": "python3",
      "display_name": "Python 3"
    },
    "accelerator": "GPU"
  },
  "cells": [
    {
      "cell_type": "code",
      "metadata": {
        "id": "GshAy9D8WFSg"
      },
      "source": [
        "import numpy as np\n",
        "import matplotlib.pyplot as plt\n",
        "import tensorflow as tf\n",
        "from tensorflow.keras.datasets import imdb\n",
        "from tensorflow.keras.preprocessing.sequence import pad_sequences\n",
        "from tensorflow.keras.layers import *\n",
        "import tensorflow.keras\n",
        "from tensorflow.keras.models import Model,Sequential\n",
        "from tensorflow.keras.optimizers import RMSprop\n",
        "from tensorflow.keras.optimizers import Adam,SGD\n",
        "from tensorflow.math import l2_normalize\n",
        "from tensorflow.keras.utils import plot_model\n",
        "from tensorflow.keras.callbacks import ModelCheckpoint"
      ],
      "execution_count": null,
      "outputs": []
    },
    {
      "cell_type": "code",
      "metadata": {
        "id": "omCiC2qZbwh0",
        "colab": {
          "base_uri": "https://localhost:8080/"
        },
        "outputId": "dedaebba-95c7-48c5-c108-c7b1e7cf401c"
      },
      "source": [
        "from google.colab import drive\n",
        "drive.mount('/content/drive')"
      ],
      "execution_count": null,
      "outputs": [
        {
          "output_type": "stream",
          "text": [
            "Mounted at /content/drive\n"
          ],
          "name": "stdout"
        }
      ]
    },
    {
      "cell_type": "code",
      "metadata": {
        "id": "FD00Pz0rWQ-0",
        "colab": {
          "base_uri": "https://localhost:8080/"
        },
        "outputId": "b38bf0d9-99e4-423b-bbd2-ef60df1a0848"
      },
      "source": [
        "(xtrain,ytrain),(xtest,ytest)=imdb.load_data(num_words=5000) "
      ],
      "execution_count": null,
      "outputs": [
        {
          "output_type": "stream",
          "text": [
            "Downloading data from https://storage.googleapis.com/tensorflow/tf-keras-datasets/imdb.npz\n",
            "17465344/17464789 [==============================] - 0s 0us/step\n"
          ],
          "name": "stdout"
        }
      ]
    },
    {
      "cell_type": "code",
      "metadata": {
        "id": "SrZcfeyeWRzN",
        "colab": {
          "base_uri": "https://localhost:8080/"
        },
        "outputId": "23709f72-082a-4bb4-ee19-e3869fad53ad"
      },
      "source": [
        "word_idx=imdb.get_word_index() #getting vocab from imdb data"
      ],
      "execution_count": null,
      "outputs": [
        {
          "output_type": "stream",
          "text": [
            "Downloading data from https://storage.googleapis.com/tensorflow/tf-keras-datasets/imdb_word_index.json\n",
            "1646592/1641221 [==============================] - 0s 0us/step\n"
          ],
          "name": "stdout"
        }
      ]
    },
    {
      "cell_type": "code",
      "metadata": {
        "id": "3VWLywOvWR3z",
        "colab": {
          "base_uri": "https://localhost:8080/"
        },
        "outputId": "ef6078cd-c524-4589-dbda-c23325200d12"
      },
      "source": [
        "idx_word=dict([(value,key) for (key,value) in word_idx.items()])\n",
        "actual_review=[idx_word.get(idx-3,'#') for idx in xtrain[0]] #if key is not present # will be used\n",
        "actual_review=' '.join(actual_review)\n",
        "print(actual_review)"
      ],
      "execution_count": null,
      "outputs": [
        {
          "output_type": "stream",
          "text": [
            "# this film was just brilliant casting location scenery story direction everyone's really suited the part they played and you could just imagine being there robert # is an amazing actor and now the same being director # father came from the same scottish island as myself so i loved the fact there was a real connection with this film the witty remarks throughout the film were great it was just brilliant so much that i bought the film as soon as it was released for # and would recommend it to everyone to watch and the fly # was amazing really cried at the end it was so sad and you know what they say if you cry at a film it must have been good and this definitely was also # to the two little # that played the # of norman and paul they were just brilliant children are often left out of the # list i think because the stars that play them all grown up are such a big # for the whole film but these children are amazing and should be # for what they have done don't you think the whole story was so lovely because it was true and was someone's life after all that was # with us all\n"
          ],
          "name": "stdout"
        }
      ]
    },
    {
      "cell_type": "code",
      "metadata": {
        "id": "LqlyTCUZbe0R"
      },
      "source": [
        "maxlen=500\n",
        "xtrain=pad_sequences(xtrain,maxlen=maxlen,padding='post')\n",
        "xtest=pad_sequences(xtest,maxlen=maxlen,padding='post')"
      ],
      "execution_count": null,
      "outputs": []
    },
    {
      "cell_type": "code",
      "metadata": {
        "id": "beSSQsmyWSN8"
      },
      "source": [
        "xtrain=np.asarray(xtrain).astype('float32')\n",
        "xtest=np.asarray(xtest).astype('float32')\n",
        "ytrain=np.asarray(ytrain).astype('float32')\n",
        "ytest=np.asarray(ytest).astype('float32')\n",
        "\n",
        "train=tf.data.Dataset.from_tensor_slices((xtrain,ytrain)).batch(128)\n",
        "test=tf.data.Dataset.from_tensor_slices((xtest,ytest)).batch(128)"
      ],
      "execution_count": null,
      "outputs": []
    },
    {
      "cell_type": "code",
      "metadata": {
        "id": "h_sQWC-UjnBR"
      },
      "source": [
        "vocab_size,emb_dimension=5000,32"
      ],
      "execution_count": null,
      "outputs": []
    },
    {
      "cell_type": "markdown",
      "metadata": {
        "id": "cw5PvLC7TtwJ"
      },
      "source": [
        "# Model Architecture"
      ]
    },
    {
      "cell_type": "code",
      "metadata": {
        "id": "PRLwofADjhl0"
      },
      "source": [
        "class MyModel(Model):\n",
        "\n",
        "  def __init__(self,vocab_size,emb_dimension):\n",
        "    super(MyModel, self).__init__()\n",
        "    self.emb=Embedding(vocab_size,emb_dimension,trainable=True)\n",
        "    self.conv1=Conv1D(filters=64, kernel_size=5,activation='elu',kernel_regularizer=tf.keras.regularizers.l2(l=0.01))\n",
        "    self.pool1=MaxPooling1D(pool_size=2)\n",
        "    self.bn1=BatchNormalization()\n",
        "    # convLayer2\n",
        "    self.conv2=Conv1D(filters=128, kernel_size=6,activation='elu',kernel_regularizer=tf.keras.regularizers.l2(l=0.01))\n",
        "    self.pool2=MaxPooling1D(pool_size=4)\n",
        "    self.bn2=BatchNormalization()\n",
        "    # convLayer3\n",
        "    self.conv3=Conv1D(filters=128, kernel_size=7,activation='elu',kernel_regularizer=tf.keras.regularizers.l2(l=0.01))\n",
        "    self.pool3=MaxPooling1D(pool_size=8)\n",
        "    self.bn3=BatchNormalization()\n",
        "\n",
        "    self.lstm1=GRU(128)\n",
        "\n",
        "    self.y=MaxPooling1D(pool_size=2)\n",
        "    self.lstm2=GRU(128)\n",
        "\n",
        "    # self.concat=concatenate([x,y])\n",
        "\n",
        "    self.dense=Dense(1, activation='sigmoid')\n",
        "\n",
        "  def call(self,input):\n",
        "    a=self.emb(input)\n",
        "    x=self.conv1(a)\n",
        "    x=self.pool1(x)\n",
        "    x=self.bn1(x)\n",
        "    # convLayer2\n",
        "    x=self.conv2(x)\n",
        "    x=self.pool2(x)\n",
        "    x=self.bn2(x)\n",
        "    # convLayer3\n",
        "    x=self.conv3(x)\n",
        "    x=self.pool3(x)\n",
        "    x=self.bn3(x)\n",
        "\n",
        "    x=self.lstm1(x)\n",
        "\n",
        "    z=self.y(a)\n",
        "    z=self.lstm2(z)\n",
        "\n",
        "    x=concatenate([x,z])\n",
        "    \n",
        "    return self.dense(x)"
      ],
      "execution_count": null,
      "outputs": []
    },
    {
      "cell_type": "code",
      "metadata": {
        "id": "Sukg38ShSBr1"
      },
      "source": [
        "model=MyModel(vocab_size=vocab_size,emb_dimension=emb_dimension)"
      ],
      "execution_count": null,
      "outputs": []
    },
    {
      "cell_type": "code",
      "metadata": {
        "id": "JUld-jOfmWbI"
      },
      "source": [
        "train_acc_metric = tf.keras.metrics.BinaryAccuracy()\n",
        "val_acc_metric = tf.keras.metrics.BinaryAccuracy()"
      ],
      "execution_count": null,
      "outputs": []
    },
    {
      "cell_type": "code",
      "metadata": {
        "id": "R_a35PX_mYwY"
      },
      "source": [
        "loss=tf.keras.losses.BinaryCrossentropy()\n",
        "optimizer=RMSprop(learning_rate=0.005)\n",
        "epoch_losses = []\n",
        "total_epochs=8"
      ],
      "execution_count": null,
      "outputs": []
    },
    {
      "cell_type": "markdown",
      "metadata": {
        "id": "2wkXrRq1TyFT"
      },
      "source": [
        "# Training"
      ]
    },
    {
      "cell_type": "code",
      "metadata": {
        "id": "j9rf1yXOKpdN"
      },
      "source": [
        "def model_training():\n",
        "  for epoch in range(total_epochs): \n",
        "    batch_losses=[] \n",
        "    for inputs, outputs in train:\n",
        "      with tf.GradientTape() as tape:\n",
        "        current_loss = loss(model(inputs), outputs) \n",
        "        grads=tape.gradient(current_loss, model.trainable_variables) \n",
        "      optimizer.apply_gradients(zip(grads, model.trainable_variables))\n",
        "      batch_losses.append(current_loss) \n",
        "    \n",
        "      train_acc_metric.update_state(outputs,model(inputs))\n",
        "    \n",
        "    for inputs, outputs in test:\n",
        "      val_acc_metric.update_state(outputs,model(inputs))\n",
        "  \n",
        "    train_acc = train_acc_metric.result().numpy()\n",
        "    train_acc_metric.reset_states()\n",
        "\n",
        "    val_acc = val_acc_metric.result().numpy()\n",
        "    val_acc_metric.reset_states()\n",
        "\n",
        "    print(\"epoch \",epoch,\", Training acc : \" , train_acc,end=\"\")\n",
        "    print(\"  Validation acc: \",val_acc)"
      ],
      "execution_count": null,
      "outputs": []
    },
    {
      "cell_type": "code",
      "metadata": {
        "id": "rIjKn_xDYQbb",
        "colab": {
          "base_uri": "https://localhost:8080/"
        },
        "outputId": "21a61c64-141a-4043-c8bb-62b0063fc975"
      },
      "source": [
        "model_training()"
      ],
      "execution_count": null,
      "outputs": [
        {
          "output_type": "stream",
          "text": [
            "epoch  0 , Training acc :  0.49964926  Validation acc:  0.49973693\n",
            "epoch  1 , Training acc :  0.497441  Validation acc:  0.50026304\n",
            "epoch  2 , Training acc :  0.57916933  Validation acc:  0.77940047\n",
            "epoch  3 , Training acc :  0.8206872  Validation acc:  0.8013074\n",
            "epoch  4 , Training acc :  0.7348693  Validation acc:  0.7589684\n",
            "epoch  5 , Training acc :  0.88599336  Validation acc:  0.88128185\n",
            "epoch  6 , Training acc :  0.91432554  Validation acc:  0.8415258\n",
            "epoch  7 , Training acc :  0.9282446  Validation acc:  0.8892379\n"
          ],
          "name": "stdout"
        }
      ]
    },
    {
      "cell_type": "code",
      "metadata": {
        "id": "WsFfkHuLbpSq",
        "colab": {
          "base_uri": "https://localhost:8080/"
        },
        "outputId": "9e45de10-5c03-4ca7-b5d4-49f4eb83420b"
      },
      "source": [
        "optimizer=RMSprop(learning_rate=0.0005)\n",
        "total_epochs=5\n",
        "model_training()"
      ],
      "execution_count": null,
      "outputs": [
        {
          "output_type": "stream",
          "text": [
            "epoch  0 , Training acc :  0.94375  Validation acc:  0.88999516\n",
            "epoch  1 , Training acc :  0.9470185  Validation acc:  0.89243466\n",
            "epoch  2 , Training acc :  0.94968915  Validation acc:  0.89371014\n",
            "epoch  3 , Training acc :  0.9513234  Validation acc:  0.8929448\n",
            "epoch  4 , Training acc :  0.95319676  Validation acc:  0.89398915\n"
          ],
          "name": "stdout"
        }
      ]
    },
    {
      "cell_type": "code",
      "metadata": {
        "id": "MLGavPj6KT2X"
      },
      "source": [
        "model.save_weights('drive/My Drive/Colab_files/model_101.h5')"
      ],
      "execution_count": null,
      "outputs": []
    },
    {
      "cell_type": "markdown",
      "metadata": {
        "id": "4UeXWLXir6Ek"
      },
      "source": [
        "Tried many learning rates with RMSprop but couldn't improve accuracy irrespective of how big or small is the learning rate so changed the optimiser."
      ]
    },
    {
      "cell_type": "code",
      "metadata": {
        "colab": {
          "base_uri": "https://localhost:8080/"
        },
        "id": "m84wJNwdqpy3",
        "outputId": "03603fa1-c4f7-49ee-ebd8-a379787450f7"
      },
      "source": [
        "optimizer=SGD(learning_rate=0.007)\n",
        "total_epochs=5\n",
        "model_training()"
      ],
      "execution_count": null,
      "outputs": [
        {
          "output_type": "stream",
          "text": [
            "epoch  0 , Training acc :  0.9576212  Validation acc:  0.8879066\n",
            "epoch  1 , Training acc :  0.9596142  Validation acc:  0.8940529\n",
            "epoch  2 , Training acc :  0.9609296  Validation acc:  0.89308834\n",
            "epoch  3 , Training acc :  0.96104914  Validation acc:  0.89373404\n",
            "epoch  4 , Training acc :  0.96192604  Validation acc:  0.89393336\n"
          ],
          "name": "stdout"
        }
      ]
    },
    {
      "cell_type": "markdown",
      "metadata": {
        "id": "9YJttCSRvpbz"
      },
      "source": [
        "changing the optimizer also didn't help."
      ]
    },
    {
      "cell_type": "code",
      "metadata": {
        "id": "c1nU9azTbqdb"
      },
      "source": [
        "model.save_weights('drive/My Drive/Colab_files/model_101.h5')"
      ],
      "execution_count": null,
      "outputs": []
    },
    {
      "cell_type": "code",
      "metadata": {
        "id": "SKQMKV42F6Td"
      },
      "source": [
        "model(xtrain[:2,:])\n",
        "model.load_weights('drive/My Drive/Colab_files/model_101.h5')"
      ],
      "execution_count": null,
      "outputs": []
    },
    {
      "cell_type": "code",
      "metadata": {
        "colab": {
          "base_uri": "https://localhost:8080/"
        },
        "id": "6v4KdpomV5-4",
        "outputId": "11ba1579-4563-4ab1-ff8d-9b3180fe6a47"
      },
      "source": [
        "model.summary()"
      ],
      "execution_count": null,
      "outputs": [
        {
          "output_type": "stream",
          "text": [
            "Model: \"my_model\"\n",
            "_________________________________________________________________\n",
            "Layer (type)                 Output Shape              Param #   \n",
            "=================================================================\n",
            "embedding (Embedding)        multiple                  160000    \n",
            "_________________________________________________________________\n",
            "conv1d (Conv1D)              multiple                  10304     \n",
            "_________________________________________________________________\n",
            "max_pooling1d (MaxPooling1D) multiple                  0         \n",
            "_________________________________________________________________\n",
            "batch_normalization (BatchNo multiple                  256       \n",
            "_________________________________________________________________\n",
            "conv1d_1 (Conv1D)            multiple                  49280     \n",
            "_________________________________________________________________\n",
            "max_pooling1d_1 (MaxPooling1 multiple                  0         \n",
            "_________________________________________________________________\n",
            "batch_normalization_1 (Batch multiple                  512       \n",
            "_________________________________________________________________\n",
            "conv1d_2 (Conv1D)            multiple                  114816    \n",
            "_________________________________________________________________\n",
            "max_pooling1d_2 (MaxPooling1 multiple                  0         \n",
            "_________________________________________________________________\n",
            "batch_normalization_2 (Batch multiple                  512       \n",
            "_________________________________________________________________\n",
            "gru (GRU)                    multiple                  99072     \n",
            "_________________________________________________________________\n",
            "max_pooling1d_3 (MaxPooling1 multiple                  0         \n",
            "_________________________________________________________________\n",
            "gru_1 (GRU)                  multiple                  62208     \n",
            "_________________________________________________________________\n",
            "dense (Dense)                multiple                  257       \n",
            "=================================================================\n",
            "Total params: 497,217\n",
            "Trainable params: 496,577\n",
            "Non-trainable params: 640\n",
            "_________________________________________________________________\n"
          ],
          "name": "stdout"
        }
      ]
    },
    {
      "cell_type": "code",
      "metadata": {
        "colab": {
          "base_uri": "https://localhost:8080/"
        },
        "id": "OHouFN90F5Ym",
        "outputId": "c68ebe60-429a-495d-f6c9-277dfd3d68dc"
      },
      "source": [
        "metric = tf.keras.metrics.AUC()\n",
        "for inputs, outputs in test:\n",
        "  metric.update_state(outputs,model(inputs))\n",
        "auc=metric.result().numpy()\n",
        "\n",
        "metric = tf.keras.metrics.BinaryAccuracy()\n",
        "for inputs, outputs in test:\n",
        "  metric.update_state(outputs,model(inputs))\n",
        "acc=metric.result().numpy()\n",
        "\n",
        "metric = tf.keras.metrics.Precision()\n",
        "for inputs, outputs in test:\n",
        "  metric.update_state(outputs,model(inputs))\n",
        "pre=metric.result().numpy()\n",
        "\n",
        "metric = tf.keras.metrics.Recall()\n",
        "for inputs, outputs in test:\n",
        "  metric.update_state(outputs,model(inputs))\n",
        "recall=metric.result().numpy()\n",
        "\n",
        "print('AUC: ',auc)\n",
        "print('Accuracy: ',acc)\n",
        "print('Precision: ',pre)\n",
        "print('Recall: ',recall)"
      ],
      "execution_count": null,
      "outputs": [
        {
          "output_type": "stream",
          "text": [
            "AUC:  0.9039802\n",
            "Accuracy:  0.89393336\n",
            "Precision:  0.89814067\n",
            "Recall:  0.8888\n"
          ],
          "name": "stdout"
        }
      ]
    },
    {
      "cell_type": "code",
      "metadata": {
        "id": "-y_SsDLAH4jX"
      },
      "source": [
        ""
      ],
      "execution_count": null,
      "outputs": []
    }
  ]
}