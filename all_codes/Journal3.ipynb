{
  "nbformat": 4,
  "nbformat_minor": 0,
  "metadata": {
    "colab": {
      "name": "Journal3.ipynb",
      "provenance": [],
      "collapsed_sections": []
    },
    "kernelspec": {
      "display_name": "Python 3",
      "name": "python3"
    },
    "accelerator": "GPU"
  },
  "cells": [
    {
      "cell_type": "code",
      "metadata": {
        "id": "GshAy9D8WFSg"
      },
      "source": [
        "import numpy as np\n",
        "import matplotlib.pyplot as plt\n",
        "import tensorflow as tf\n",
        "from tensorflow.keras.datasets import imdb\n",
        "from tensorflow.keras.preprocessing.sequence import pad_sequences\n",
        "from tensorflow.keras.layers import *\n",
        "import tensorflow.keras\n",
        "from tensorflow.keras.models import Model,Sequential\n",
        "from tensorflow.keras.optimizers import RMSprop\n",
        "from tensorflow.math import l2_normalize\n",
        "from tensorflow.keras.utils import plot_model\n",
        "from tensorflow.keras.callbacks import ModelCheckpoint"
      ],
      "execution_count": null,
      "outputs": []
    },
    {
      "cell_type": "code",
      "metadata": {
        "colab": {
          "base_uri": "https://localhost:8080/"
        },
        "id": "omCiC2qZbwh0",
        "outputId": "4e630708-6a33-4961-d916-d76e63db6f6c"
      },
      "source": [
        "from google.colab import drive\n",
        "drive.mount('/content/drive')"
      ],
      "execution_count": null,
      "outputs": [
        {
          "output_type": "stream",
          "text": [
            "Drive already mounted at /content/drive; to attempt to forcibly remount, call drive.mount(\"/content/drive\", force_remount=True).\n"
          ],
          "name": "stdout"
        }
      ]
    },
    {
      "cell_type": "markdown",
      "metadata": {
        "id": "kFle7wqA2TDR"
      },
      "source": [
        "# Loading Dataset"
      ]
    },
    {
      "cell_type": "code",
      "metadata": {
        "id": "FD00Pz0rWQ-0"
      },
      "source": [
        "(xtrain,ytrain),(xtest,ytest)=imdb.load_data(num_words=5000) "
      ],
      "execution_count": null,
      "outputs": []
    },
    {
      "cell_type": "code",
      "metadata": {
        "id": "SrZcfeyeWRzN"
      },
      "source": [
        "word_idx=imdb.get_word_index() #getting vocab from imdb data"
      ],
      "execution_count": null,
      "outputs": []
    },
    {
      "cell_type": "code",
      "metadata": {
        "id": "LqlyTCUZbe0R"
      },
      "source": [
        "maxlen=500\n",
        "vocab_size=5000\n",
        "emb_dimension=300\n",
        "xtrain=pad_sequences(xtrain,maxlen=maxlen,padding='post')\n",
        "xtest=pad_sequences(xtest,maxlen=maxlen,padding='post')"
      ],
      "execution_count": null,
      "outputs": []
    },
    {
      "cell_type": "markdown",
      "metadata": {
        "id": "vgBdMY4G2f38"
      },
      "source": [
        "# Loading Google's pretrained word2vec model"
      ]
    },
    {
      "cell_type": "code",
      "metadata": {
        "colab": {
          "base_uri": "https://localhost:8080/"
        },
        "id": "Z3YGeVpbtjcV",
        "outputId": "3b45f808-f771-4a27-92ff-cbf74af05dc8"
      },
      "source": [
        "!wget -P download -c \"https://s3.amazonaws.com/dl4j-distribution/GoogleNews-vectors-negative300.bin.gz\"\n",
        "from gensim.models import KeyedVectors\n",
        "word2vec = KeyedVectors.load_word2vec_format('download/GoogleNews-vectors-negative300.bin.gz', binary=True)"
      ],
      "execution_count": null,
      "outputs": [
        {
          "output_type": "stream",
          "text": [
            "--2020-11-23 16:43:18--  https://s3.amazonaws.com/dl4j-distribution/GoogleNews-vectors-negative300.bin.gz\n",
            "Resolving s3.amazonaws.com (s3.amazonaws.com)... 52.217.47.118\n",
            "Connecting to s3.amazonaws.com (s3.amazonaws.com)|52.217.47.118|:443... connected.\n",
            "HTTP request sent, awaiting response... 200 OK\n",
            "Length: 1647046227 (1.5G) [application/x-gzip]\n",
            "Saving to: ‘download/GoogleNews-vectors-negative300.bin.gz’\n",
            "\n",
            "GoogleNews-vectors- 100%[===================>]   1.53G  54.9MB/s    in 26s     \n",
            "\n",
            "2020-11-23 16:43:44 (60.3 MB/s) - ‘download/GoogleNews-vectors-negative300.bin.gz’ saved [1647046227/1647046227]\n",
            "\n"
          ],
          "name": "stdout"
        }
      ]
    },
    {
      "cell_type": "markdown",
      "metadata": {
        "id": "TOgV2MYZ2isZ"
      },
      "source": [
        "# Embedding Layer"
      ]
    },
    {
      "cell_type": "code",
      "metadata": {
        "id": "0RKP5x7Ctm-S"
      },
      "source": [
        "embedding_matrix = np.zeros((vocab_size,emb_dimension))\n",
        "for word, i in word_idx.items():\n",
        "    if word in word2vec.vocab and i<vocab_size:\n",
        "        embedding_matrix[i] = word2vec.word_vec(word)"
      ],
      "execution_count": null,
      "outputs": []
    },
    {
      "cell_type": "code",
      "metadata": {
        "id": "gv0x3UEyquaf"
      },
      "source": [
        "np.save('drive/My Drive/imdb/emb.npy',embedding_matrix)"
      ],
      "execution_count": null,
      "outputs": []
    },
    {
      "cell_type": "code",
      "metadata": {
        "id": "uyNGzaYdrCee"
      },
      "source": [
        "embedding_matrix=np.load('drive/My Drive/imdb/emb.npy')"
      ],
      "execution_count": null,
      "outputs": []
    },
    {
      "cell_type": "code",
      "metadata": {
        "id": "beSSQsmyWSN8"
      },
      "source": [
        "xtrain=np.asarray(xtrain).astype('float32')\n",
        "xtest=np.asarray(xtest).astype('float32')\n",
        "ytrain=np.asarray(ytrain).astype('float32')\n",
        "ytest=np.asarray(ytest).astype('float32')\n",
        "\n",
        "train=tf.data.Dataset.from_tensor_slices((xtrain,ytrain))\n",
        "test=tf.data.Dataset.from_tensor_slices((xtest,ytest))   "
      ],
      "execution_count": null,
      "outputs": []
    },
    {
      "cell_type": "code",
      "metadata": {
        "id": "hELuyGki6dAz"
      },
      "source": [
        "train=train.batch(128)\n",
        "test=test.batch(128)"
      ],
      "execution_count": null,
      "outputs": []
    },
    {
      "cell_type": "markdown",
      "metadata": {
        "id": "cw5PvLC7TtwJ"
      },
      "source": [
        "# Model Architecture"
      ]
    },
    {
      "cell_type": "code",
      "metadata": {
        "id": "3PYQN7xhLA6n"
      },
      "source": [
        "class MyModel(Model):\n",
        "\n",
        "  def __init__(self,vocab_size,emb_dimension,embedding_matrix,filters,kernel_size):\n",
        "    super(MyModel, self).__init__()\n",
        "    self.emb=Embedding(vocab_size,emb_dimension,weights=[embedding_matrix],trainable=True)\n",
        "    self.conv1=Conv1D(filters=filters[0], kernel_size=kernel_size[0],activation='relu',kernel_regularizer=tf.keras.regularizers.l2(l=0.01))\n",
        "    self.conv2=Conv1D(filters=filters[1], kernel_size=kernel_size[1],activation='relu',kernel_regularizer=tf.keras.regularizers.l2(l=0.01))\n",
        "    self.drop=Dropout(0.5)\n",
        "    self.bn=BatchNormalization()\n",
        "    \n",
        "    self.lstm=GRU(128)\n",
        "    self.dense=Dense(1,activation='sigmoid')\n",
        "\n",
        "  def call(self,input):\n",
        "    x=self.emb(input)\n",
        "    x=self.conv1(x)\n",
        "    x=self.conv2(x)\n",
        "    x=self.drop(x)\n",
        "    x=self.bn(x)\n",
        "    x=self.lstm(x)\n",
        "    x=self.dense(x)\n",
        "    return x"
      ],
      "execution_count": null,
      "outputs": []
    },
    {
      "cell_type": "code",
      "metadata": {
        "id": "FaaG3NTag8t-"
      },
      "source": [
        "model=MyModel(vocab_size=vocab_size,emb_dimension=emb_dimension,embedding_matrix=embedding_matrix,filters=[128,64],kernel_size=[7,5])"
      ],
      "execution_count": null,
      "outputs": []
    },
    {
      "cell_type": "code",
      "metadata": {
        "id": "EEWzgNfsunF0"
      },
      "source": [
        "train_acc_metric = tf.keras.metrics.BinaryAccuracy()\n",
        "val_acc_metric = tf.keras.metrics.BinaryAccuracy()"
      ],
      "execution_count": null,
      "outputs": []
    },
    {
      "cell_type": "code",
      "metadata": {
        "id": "i642WGoCp2YW"
      },
      "source": [
        "loss=tf.keras.losses.BinaryCrossentropy()\n",
        "optimizer=RMSprop(learning_rate=0.01)\n",
        "epoch_losses = []\n",
        "total_epochs=12"
      ],
      "execution_count": null,
      "outputs": []
    },
    {
      "cell_type": "code",
      "metadata": {
        "id": "j9rf1yXOKpdN"
      },
      "source": [
        "def model_training():\n",
        "  for epoch in range(total_epochs): \n",
        "    batch_losses=[] \n",
        "    for inputs, outputs in train:\n",
        "      with tf.GradientTape() as tape:\n",
        "        current_loss = loss(model(inputs), outputs) \n",
        "        grads=tape.gradient(current_loss, model.trainable_variables) \n",
        "      optimizer.apply_gradients(zip(grads, model.trainable_variables))\n",
        "      batch_losses.append(current_loss) \n",
        "    \n",
        "      train_acc_metric.update_state(outputs,model(inputs))\n",
        "    \n",
        "    for inputs, outputs in test:\n",
        "      val_acc_metric.update_state(outputs,model(inputs))\n",
        "  \n",
        "    train_acc = train_acc_metric.result().numpy()\n",
        "    train_acc_metric.reset_states()\n",
        "\n",
        "    val_acc = val_acc_metric.result().numpy()\n",
        "    val_acc_metric.reset_states()\n",
        "\n",
        "    print(\"epoch \",epoch,\", Training acc : \" , train_acc,end=\"\")\n",
        "    print(\"  Validation acc: \",val_acc)"
      ],
      "execution_count": null,
      "outputs": []
    },
    {
      "cell_type": "code",
      "metadata": {
        "colab": {
          "base_uri": "https://localhost:8080/"
        },
        "id": "n2gBftsu7DEO",
        "outputId": "6cac5d76-d82c-4614-8284-a79ac570267c"
      },
      "source": [
        "model_training()"
      ],
      "execution_count": null,
      "outputs": [
        {
          "output_type": "stream",
          "text": [
            "epoch  0 , Training acc :  0.49964926  Validation acc:  0.49973693\n",
            "epoch  1 , Training acc :  0.49648437  Validation acc:  0.50026304\n",
            "epoch  2 , Training acc :  0.5020249  Validation acc:  0.50026304\n",
            "epoch  3 , Training acc :  0.71426976  Validation acc:  0.7214684\n",
            "epoch  4 , Training acc :  0.74866074  Validation acc:  0.728683\n",
            "epoch  5 , Training acc :  0.7147321  Validation acc:  0.75685585\n",
            "epoch  6 , Training acc :  0.7682956  Validation acc:  0.7571508\n",
            "epoch  7 , Training acc :  0.7925622  Validation acc:  0.7684949\n",
            "epoch  8 , Training acc :  0.79846936  Validation acc:  0.7612724\n",
            "epoch  9 , Training acc :  0.79870856  Validation acc:  0.77154016\n",
            "epoch  10 , Training acc :  0.80789226  Validation acc:  0.77265626\n",
            "epoch  11 , Training acc :  0.8101881  Validation acc:  0.77566963\n"
          ],
          "name": "stdout"
        }
      ]
    },
    {
      "cell_type": "code",
      "metadata": {
        "colab": {
          "base_uri": "https://localhost:8080/"
        },
        "id": "oJYnwYHy0pqk",
        "outputId": "88ffc229-7d18-480c-d75c-9438aefd07d2"
      },
      "source": [
        "optimizer=RMSprop(learning_rate=0.01)\n",
        "total_epochs=10\n",
        "model_training()"
      ],
      "execution_count": null,
      "outputs": [
        {
          "output_type": "stream",
          "text": [
            "epoch  0 , Training acc :  0.79961735  Validation acc:  0.7688217\n",
            "epoch  1 , Training acc :  0.6842873  Validation acc:  0.52149236\n",
            "epoch  2 , Training acc :  0.5352997  Validation acc:  0.5208466\n",
            "epoch  3 , Training acc :  0.64019454  Validation acc:  0.73656726\n",
            "epoch  4 , Training acc :  0.7894372  Validation acc:  0.75754946\n",
            "epoch  5 , Training acc :  0.78058034  Validation acc:  0.768487\n",
            "epoch  6 , Training acc :  0.79493785  Validation acc:  0.77020884\n",
            "epoch  7 , Training acc :  0.80153066  Validation acc:  0.77299905\n",
            "epoch  8 , Training acc :  0.8006617  Validation acc:  0.7618383\n",
            "epoch  9 , Training acc :  0.79204404  Validation acc:  0.7495217\n"
          ],
          "name": "stdout"
        }
      ]
    },
    {
      "cell_type": "code",
      "metadata": {
        "id": "rIjKn_xDYQbb"
      },
      "source": [
        "model.save_weights('drive/My Drive/Colab_files/model_100_3.h5')"
      ],
      "execution_count": null,
      "outputs": []
    },
    {
      "cell_type": "code",
      "metadata": {
        "colab": {
          "base_uri": "https://localhost:8080/"
        },
        "id": "YpFtBXN2-e5h",
        "outputId": "382e6c02-7cb5-4b1a-fc4c-4d5de34f3f7e"
      },
      "source": [
        "model.summary()"
      ],
      "execution_count": null,
      "outputs": [
        {
          "output_type": "stream",
          "text": [
            "Model: \"my_model_2\"\n",
            "_________________________________________________________________\n",
            "Layer (type)                 Output Shape              Param #   \n",
            "=================================================================\n",
            "embedding_2 (Embedding)      multiple                  1500000   \n",
            "_________________________________________________________________\n",
            "conv1d_4 (Conv1D)            multiple                  268928    \n",
            "_________________________________________________________________\n",
            "conv1d_5 (Conv1D)            multiple                  41024     \n",
            "_________________________________________________________________\n",
            "dropout_2 (Dropout)          multiple                  0         \n",
            "_________________________________________________________________\n",
            "batch_normalization_2 (Batch multiple                  256       \n",
            "_________________________________________________________________\n",
            "gru_2 (GRU)                  multiple                  74496     \n",
            "_________________________________________________________________\n",
            "dense_2 (Dense)              multiple                  129       \n",
            "=================================================================\n",
            "Total params: 1,884,833\n",
            "Trainable params: 1,884,705\n",
            "Non-trainable params: 128\n",
            "_________________________________________________________________\n"
          ],
          "name": "stdout"
        }
      ]
    },
    {
      "cell_type": "code",
      "metadata": {
        "colab": {
          "base_uri": "https://localhost:8080/"
        },
        "id": "MB53nNQ5OgHF",
        "outputId": "02f72867-bcb6-4435-e70f-28aed3c32837"
      },
      "source": [
        "model(xtrain[:2,:])"
      ],
      "execution_count": null,
      "outputs": [
        {
          "output_type": "execute_result",
          "data": {
            "text/plain": [
              "<tf.Tensor: shape=(2, 1), dtype=float32, numpy=\n",
              "array([[0.5],\n",
              "       [0.5]], dtype=float32)>"
            ]
          },
          "metadata": {
            "tags": []
          },
          "execution_count": 11
        }
      ]
    },
    {
      "cell_type": "code",
      "metadata": {
        "id": "zsEjFp9corPw"
      },
      "source": [
        "model.load_weights('drive/My Drive/Colab_files/model_100_3.h5')"
      ],
      "execution_count": null,
      "outputs": []
    },
    {
      "cell_type": "code",
      "metadata": {
        "colab": {
          "base_uri": "https://localhost:8080/"
        },
        "id": "0yfwP3r1p5oF",
        "outputId": "b8eab7c0-cd72-42c4-e815-3b62f3859608"
      },
      "source": [
        "metric = tf.keras.metrics.AUC()\n",
        "for inputs, outputs in test:\n",
        "  metric.update_state(outputs,model(inputs))\n",
        "auc=metric.result().numpy()\n",
        "\n",
        "metric = tf.keras.metrics.BinaryAccuracy()\n",
        "for inputs, outputs in test:\n",
        "  metric.update_state(outputs,model(inputs))\n",
        "acc=metric.result().numpy()\n",
        "\n",
        "metric = tf.keras.metrics.Precision()\n",
        "for inputs, outputs in test:\n",
        "  metric.update_state(outputs,model(inputs))\n",
        "pre=metric.result().numpy()\n",
        "\n",
        "metric = tf.keras.metrics.Recall()\n",
        "for inputs, outputs in test:\n",
        "  metric.update_state(outputs,model(inputs))\n",
        "recall=metric.result().numpy()\n",
        "\n",
        "print('AUC: ',auc)\n",
        "print('Accuracy: ',acc)\n",
        "print('Precision: ',pre)\n",
        "print('Recall: ',recall)"
      ],
      "execution_count": null,
      "outputs": [
        {
          "output_type": "stream",
          "text": [
            "AUC:  0.7787463\n",
            "Accuracy:  0.7495217\n",
            "Precision:  0.7967085\n",
            "Recall:  0.67\n"
          ],
          "name": "stdout"
        }
      ]
    },
    {
      "cell_type": "code",
      "metadata": {
        "id": "lasp-yrDXhsO"
      },
      "source": [
        ""
      ],
      "execution_count": null,
      "outputs": []
    }
  ]
}