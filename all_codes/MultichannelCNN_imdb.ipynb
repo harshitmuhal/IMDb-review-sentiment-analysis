{
  "nbformat": 4,
  "nbformat_minor": 0,
  "metadata": {
    "colab": {
      "name": "MultichannelCNN_imdb.ipynb",
      "provenance": []
    },
    "kernelspec": {
      "display_name": "Python 3",
      "name": "python3"
    }
  },
  "cells": [
    {
      "cell_type": "code",
      "metadata": {
        "id": "WKXrRyNrRKpS"
      },
      "source": [
        "import numpy as np\n",
        "import pandas as pd\n",
        "import matplotlib.pyplot as plt\n",
        "from keras.models import Model,Sequential\n",
        "from keras.layers import *\n",
        "import keras\n",
        "from keras.preprocessing.text import Tokenizer\n",
        "from keras.preprocessing.sequence import pad_sequences\n",
        "import tensorflow as tf\n",
        "from tensorflow.keras.datasets import imdb\n",
        "from tensorflow.keras.preprocessing.sequence import pad_sequences\n",
        "import tensorflow.keras\n",
        "from tensorflow.keras.optimizers import RMSprop\n",
        "from tensorflow.math import l2_normalize\n",
        "from tensorflow.keras.utils import plot_model\n",
        "from tensorflow.keras.callbacks import ModelCheckpoint\n",
        "from gensim.models import KeyedVectors\n",
        "from keras import layers\n"
      ],
      "execution_count": null,
      "outputs": []
    },
    {
      "cell_type": "code",
      "metadata": {
        "colab": {
          "base_uri": "https://localhost:8080/"
        },
        "id": "2r0dfppkSEAE",
        "outputId": "3bdfdddc-dc78-4866-f35a-6da667df8d55"
      },
      "source": [
        "!wget -P download -c \"https://s3.amazonaws.com/dl4j-distribution/GoogleNews-vectors-negative300.bin.gz\"\n",
        "word2vec = KeyedVectors.load_word2vec_format('download/GoogleNews-vectors-negative300.bin.gz', binary=True)"
      ],
      "execution_count": null,
      "outputs": [
        {
          "output_type": "stream",
          "text": [
            "--2020-12-02 07:09:03--  https://s3.amazonaws.com/dl4j-distribution/GoogleNews-vectors-negative300.bin.gz\n",
            "Resolving s3.amazonaws.com (s3.amazonaws.com)... 52.216.128.61\n",
            "Connecting to s3.amazonaws.com (s3.amazonaws.com)|52.216.128.61|:443... connected.\n",
            "HTTP request sent, awaiting response... 200 OK\n",
            "Length: 1647046227 (1.5G) [application/x-gzip]\n",
            "Saving to: ‘download/GoogleNews-vectors-negative300.bin.gz’\n",
            "\n",
            "GoogleNews-vectors- 100%[===================>]   1.53G  46.1MB/s    in 36s     \n",
            "\n",
            "2020-12-02 07:09:39 (43.6 MB/s) - ‘download/GoogleNews-vectors-negative300.bin.gz’ saved [1647046227/1647046227]\n",
            "\n"
          ],
          "name": "stdout"
        }
      ]
    },
    {
      "cell_type": "code",
      "metadata": {
        "colab": {
          "base_uri": "https://localhost:8080/"
        },
        "id": "C-aCSflASHYf",
        "outputId": "e45f921a-a26e-4141-f676-d722aec45035"
      },
      "source": [
        "(xtrain,ytrain),(xtest,ytest)=imdb.load_data(num_words=5000) "
      ],
      "execution_count": null,
      "outputs": [
        {
          "output_type": "stream",
          "text": [
            "Downloading data from https://storage.googleapis.com/tensorflow/tf-keras-datasets/imdb.npz\n",
            "17465344/17464789 [==============================] - 1s 0us/step\n"
          ],
          "name": "stdout"
        }
      ]
    },
    {
      "cell_type": "code",
      "metadata": {
        "id": "HlCle0DwSJZ2"
      },
      "source": [
        "maxlen=500\n",
        "vocab_size=5000\n",
        "emb_dimension=300\n",
        "xtrain=pad_sequences(xtrain,maxlen=maxlen,padding='post')\n",
        "xtest=pad_sequences(xtest,maxlen=maxlen,padding='post')"
      ],
      "execution_count": null,
      "outputs": []
    },
    {
      "cell_type": "code",
      "metadata": {
        "colab": {
          "base_uri": "https://localhost:8080/"
        },
        "id": "L67aRg4kSLqi",
        "outputId": "3891033d-21e0-402d-c7a1-c996df527797"
      },
      "source": [
        "word_idx=imdb.get_word_index() #getting vocab from imdb data"
      ],
      "execution_count": null,
      "outputs": [
        {
          "output_type": "stream",
          "text": [
            "Downloading data from https://storage.googleapis.com/tensorflow/tf-keras-datasets/imdb_word_index.json\n",
            "1646592/1641221 [==============================] - 0s 0us/step\n"
          ],
          "name": "stdout"
        }
      ]
    },
    {
      "cell_type": "code",
      "metadata": {
        "id": "0zb3PF2nSNZI"
      },
      "source": [
        "embedding_matrix = np.zeros((vocab_size,emb_dimension))\n",
        "for word, i in word_idx.items():\n",
        "    if word in word2vec.vocab and i<vocab_size:\n",
        "        embedding_matrix[i] = word2vec.word_vec(word)"
      ],
      "execution_count": null,
      "outputs": []
    },
    {
      "cell_type": "code",
      "metadata": {
        "colab": {
          "base_uri": "https://localhost:8080/"
        },
        "id": "v_b0_kGzSPHd",
        "outputId": "3c7cbbe8-177a-4054-fedb-dd53aa16a822"
      },
      "source": [
        "# channel 1\n",
        "inputs1 = Input(shape=(maxlen,),)\n",
        "embedding1=Embedding(vocab_size,emb_dimension,weights=[embedding_matrix])(inputs1)\n",
        "conv1 = Conv1D(filters=32, kernel_size=4, activation='relu')(embedding1)\n",
        "drop1 = Dropout(0.5)(conv1)\n",
        "pool1 = MaxPooling1D(pool_size=2)(drop1)\n",
        "flat1 = Flatten()(pool1)\n",
        "\n",
        "# channel 2\n",
        "conv2 = Conv1D(filters=32, kernel_size=6, activation='relu')(embedding1)\n",
        "drop2 = Dropout(0.5)(conv2)\n",
        "pool2 = MaxPooling1D(pool_size=2)(drop2)\n",
        "flat2 = Flatten()(pool2)\n",
        "\n",
        "# channel 3\n",
        "conv3 = Conv1D(filters=32, kernel_size=8, activation='relu')(embedding1)\n",
        "drop3 = Dropout(0.5)(conv3)\n",
        "pool3 = MaxPooling1D(pool_size=2)(drop3)\n",
        "flat3 = Flatten()(pool3)\n",
        "\n",
        "# merge\n",
        "merged = concatenate([flat1, flat2, flat3])\n",
        "# interpretation\n",
        "dense1 = Dense(10, activation='relu')(merged)\n",
        "outputs = Dense(1, activation='sigmoid')(dense1)\n",
        "model = Model(inputs=inputs1, outputs=outputs)\n",
        "# compile\n",
        "model.compile(loss='binary_crossentropy', optimizer='adam', metrics=['accuracy'])\n",
        "# summarize\n",
        "print(model.summary())"
      ],
      "execution_count": null,
      "outputs": [
        {
          "output_type": "stream",
          "text": [
            "Model: \"functional_1\"\n",
            "__________________________________________________________________________________________________\n",
            "Layer (type)                    Output Shape         Param #     Connected to                     \n",
            "==================================================================================================\n",
            "input_1 (InputLayer)            [(None, 500)]        0                                            \n",
            "__________________________________________________________________________________________________\n",
            "embedding (Embedding)           (None, 500, 300)     1500000     input_1[0][0]                    \n",
            "__________________________________________________________________________________________________\n",
            "conv1d (Conv1D)                 (None, 497, 32)      38432       embedding[0][0]                  \n",
            "__________________________________________________________________________________________________\n",
            "conv1d_1 (Conv1D)               (None, 495, 32)      57632       embedding[0][0]                  \n",
            "__________________________________________________________________________________________________\n",
            "conv1d_2 (Conv1D)               (None, 493, 32)      76832       embedding[0][0]                  \n",
            "__________________________________________________________________________________________________\n",
            "dropout (Dropout)               (None, 497, 32)      0           conv1d[0][0]                     \n",
            "__________________________________________________________________________________________________\n",
            "dropout_1 (Dropout)             (None, 495, 32)      0           conv1d_1[0][0]                   \n",
            "__________________________________________________________________________________________________\n",
            "dropout_2 (Dropout)             (None, 493, 32)      0           conv1d_2[0][0]                   \n",
            "__________________________________________________________________________________________________\n",
            "max_pooling1d (MaxPooling1D)    (None, 248, 32)      0           dropout[0][0]                    \n",
            "__________________________________________________________________________________________________\n",
            "max_pooling1d_1 (MaxPooling1D)  (None, 247, 32)      0           dropout_1[0][0]                  \n",
            "__________________________________________________________________________________________________\n",
            "max_pooling1d_2 (MaxPooling1D)  (None, 246, 32)      0           dropout_2[0][0]                  \n",
            "__________________________________________________________________________________________________\n",
            "flatten (Flatten)               (None, 7936)         0           max_pooling1d[0][0]              \n",
            "__________________________________________________________________________________________________\n",
            "flatten_1 (Flatten)             (None, 7904)         0           max_pooling1d_1[0][0]            \n",
            "__________________________________________________________________________________________________\n",
            "flatten_2 (Flatten)             (None, 7872)         0           max_pooling1d_2[0][0]            \n",
            "__________________________________________________________________________________________________\n",
            "concatenate (Concatenate)       (None, 23712)        0           flatten[0][0]                    \n",
            "                                                                 flatten_1[0][0]                  \n",
            "                                                                 flatten_2[0][0]                  \n",
            "__________________________________________________________________________________________________\n",
            "dense (Dense)                   (None, 10)           237130      concatenate[0][0]                \n",
            "__________________________________________________________________________________________________\n",
            "dense_1 (Dense)                 (None, 1)            11          dense[0][0]                      \n",
            "==================================================================================================\n",
            "Total params: 1,910,037\n",
            "Trainable params: 1,910,037\n",
            "Non-trainable params: 0\n",
            "__________________________________________________________________________________________________\n",
            "None\n"
          ],
          "name": "stdout"
        }
      ]
    },
    {
      "cell_type": "code",
      "metadata": {
        "id": "0O4qehJuTZbC"
      },
      "source": [
        "plot_model(model, show_shapes=True, to_file='multichannel.png')"
      ],
      "execution_count": null,
      "outputs": []
    },
    {
      "cell_type": "code",
      "metadata": {
        "colab": {
          "background_save": true,
          "base_uri": "https://localhost:8080/"
        },
        "id": "Yd6bixRnTVZn",
        "outputId": "08e73030-333b-4a87-e1f3-7ad2a59a2938"
      },
      "source": [
        "model.fit(xtrain, ytrain, batch_size=128, epochs=15, validation_data=(xtest, ytest))"
      ],
      "execution_count": null,
      "outputs": [
        {
          "output_type": "stream",
          "text": [
            "Epoch 1/15\n",
            "196/196 [==============================] - 574s 3s/step - loss: 0.5594 - accuracy: 0.6729 - val_loss: 0.3671 - val_accuracy: 0.8422\n",
            "Epoch 2/15\n",
            "196/196 [==============================] - 573s 3s/step - loss: 0.2623 - accuracy: 0.8949 - val_loss: 0.2954 - val_accuracy: 0.8781\n",
            "Epoch 3/15\n",
            "196/196 [==============================] - 574s 3s/step - loss: 0.1828 - accuracy: 0.9299 - val_loss: 0.2875 - val_accuracy: 0.8786\n",
            "Epoch 4/15\n",
            "196/196 [==============================] - 577s 3s/step - loss: 0.1202 - accuracy: 0.9578 - val_loss: 0.3645 - val_accuracy: 0.8606\n",
            "Epoch 5/15\n",
            "196/196 [==============================] - 577s 3s/step - loss: 0.0665 - accuracy: 0.9788 - val_loss: 0.3493 - val_accuracy: 0.8692\n",
            "Epoch 6/15\n",
            "196/196 [==============================] - 583s 3s/step - loss: 0.0380 - accuracy: 0.9889 - val_loss: 0.4213 - val_accuracy: 0.8680\n",
            "Epoch 7/15\n",
            "196/196 [==============================] - 580s 3s/step - loss: 0.0265 - accuracy: 0.9924 - val_loss: 0.4365 - val_accuracy: 0.8679\n",
            "Epoch 8/15\n",
            "196/196 [==============================] - 579s 3s/step - loss: 0.0201 - accuracy: 0.9934 - val_loss: 0.4999 - val_accuracy: 0.8657\n",
            "Epoch 9/15\n",
            "196/196 [==============================] - 585s 3s/step - loss: 0.0142 - accuracy: 0.9955 - val_loss: 0.5194 - val_accuracy: 0.8669\n",
            "Epoch 10/15\n",
            "196/196 [==============================] - 580s 3s/step - loss: 0.0124 - accuracy: 0.9967 - val_loss: 0.5557 - val_accuracy: 0.8624\n",
            "Epoch 11/15\n",
            "196/196 [==============================] - 582s 3s/step - loss: 0.0116 - accuracy: 0.9963 - val_loss: 0.5809 - val_accuracy: 0.8674\n",
            "Epoch 12/15\n",
            "196/196 [==============================] - 580s 3s/step - loss: 0.0069 - accuracy: 0.9979 - val_loss: 0.6050 - val_accuracy: 0.8688\n",
            "Epoch 13/15\n",
            "196/196 [==============================] - 583s 3s/step - loss: 0.0077 - accuracy: 0.9974 - val_loss: 0.6209 - val_accuracy: 0.8678\n",
            "Epoch 14/15\n",
            "196/196 [==============================] - 591s 3s/step - loss: 0.0118 - accuracy: 0.9963 - val_loss: 0.6217 - val_accuracy: 0.8688\n",
            "Epoch 15/15\n",
            "196/196 [==============================] - 581s 3s/step - loss: 0.0095 - accuracy: 0.9970 - val_loss: 0.6652 - val_accuracy: 0.8702\n"
          ],
          "name": "stdout"
        },
        {
          "output_type": "execute_result",
          "data": {
            "text/plain": [
              "<tensorflow.python.keras.callbacks.History at 0x7fee010af7b8>"
            ]
          },
          "metadata": {
            "tags": []
          },
          "execution_count": 0
        }
      ]
    },
    {
      "cell_type": "code",
      "metadata": {
        "id": "GeJvXsxpTfkL"
      },
      "source": [
        ""
      ],
      "execution_count": null,
      "outputs": []
    }
  ]
}