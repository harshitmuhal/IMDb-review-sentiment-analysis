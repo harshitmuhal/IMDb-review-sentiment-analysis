{
  "nbformat": 4,
  "nbformat_minor": 0,
  "metadata": {
    "accelerator": "GPU",
    "colab": {
      "name": "Journal1.ipynb",
      "provenance": [],
      "collapsed_sections": []
    },
    "kernelspec": {
      "display_name": "Python 3",
      "name": "python3"
    }
  },
  "cells": [
    {
      "cell_type": "code",
      "metadata": {
        "id": "GshAy9D8WFSg"
      },
      "source": [
        "import numpy as np\n",
        "import matplotlib.pyplot as plt\n",
        "import tensorflow as tf\n",
        "from tensorflow.keras.datasets import imdb\n",
        "from tensorflow.keras.preprocessing.sequence import pad_sequences\n",
        "from tensorflow.keras.layers import *\n",
        "import tensorflow.keras\n",
        "from tensorflow.keras.models import Model,Sequential\n",
        "from tensorflow.keras.optimizers import RMSprop\n",
        "from tensorflow.math import l2_normalize\n",
        "from tensorflow.keras.utils import plot_model\n",
        "from tensorflow.keras.callbacks import ModelCheckpoint"
      ],
      "execution_count": null,
      "outputs": []
    },
    {
      "cell_type": "code",
      "metadata": {
        "colab": {
          "base_uri": "https://localhost:8080/"
        },
        "id": "omCiC2qZbwh0",
        "outputId": "d7a12423-3da5-4853-a62f-e8c98fd16a93"
      },
      "source": [
        "from google.colab import drive\n",
        "drive.mount('/content/drive')"
      ],
      "execution_count": null,
      "outputs": [
        {
          "output_type": "stream",
          "text": [
            "Mounted at /content/drive\n"
          ],
          "name": "stdout"
        }
      ]
    },
    {
      "cell_type": "markdown",
      "metadata": {
        "id": "kFle7wqA2TDR"
      },
      "source": [
        "# Loading Dataset"
      ]
    },
    {
      "cell_type": "code",
      "metadata": {
        "colab": {
          "base_uri": "https://localhost:8080/"
        },
        "id": "FD00Pz0rWQ-0",
        "outputId": "125d750c-dcbb-448e-a4e5-642a4e3b7929"
      },
      "source": [
        "(xtrain,ytrain),(xtest,ytest)=imdb.load_data(num_words=5000) "
      ],
      "execution_count": null,
      "outputs": [
        {
          "output_type": "stream",
          "text": [
            "Downloading data from https://storage.googleapis.com/tensorflow/tf-keras-datasets/imdb.npz\n",
            "17465344/17464789 [==============================] - 0s 0us/step\n"
          ],
          "name": "stdout"
        }
      ]
    },
    {
      "cell_type": "code",
      "metadata": {
        "colab": {
          "base_uri": "https://localhost:8080/"
        },
        "id": "SrZcfeyeWRzN",
        "outputId": "749b3335-6598-46a4-a207-e1a35ee8b41b"
      },
      "source": [
        "word_idx=imdb.get_word_index() #getting vocab from imdb data"
      ],
      "execution_count": null,
      "outputs": [
        {
          "output_type": "stream",
          "text": [
            "Downloading data from https://storage.googleapis.com/tensorflow/tf-keras-datasets/imdb_word_index.json\n",
            "1646592/1641221 [==============================] - 0s 0us/step\n"
          ],
          "name": "stdout"
        }
      ]
    },
    {
      "cell_type": "code",
      "metadata": {
        "id": "LqlyTCUZbe0R"
      },
      "source": [
        "maxlen=500\n",
        "vocab_size=5000\n",
        "emb_dimension=300\n",
        "xtrain=pad_sequences(xtrain,maxlen=maxlen,padding='post')\n",
        "xtest=pad_sequences(xtest,maxlen=maxlen,padding='post')"
      ],
      "execution_count": null,
      "outputs": []
    },
    {
      "cell_type": "markdown",
      "metadata": {
        "id": "vgBdMY4G2f38"
      },
      "source": [
        "# Loading Google's pretrained word2vec model"
      ]
    },
    {
      "cell_type": "code",
      "metadata": {
        "colab": {
          "base_uri": "https://localhost:8080/"
        },
        "id": "Z3YGeVpbtjcV",
        "outputId": "3bb5aa5d-316e-4ed6-e87f-291408883416"
      },
      "source": [
        "!wget -P download -c \"https://s3.amazonaws.com/dl4j-distribution/GoogleNews-vectors-negative300.bin.gz\"\n",
        "from gensim.models import KeyedVectors\n",
        "word2vec = KeyedVectors.load_word2vec_format('download/GoogleNews-vectors-negative300.bin.gz', binary=True)"
      ],
      "execution_count": null,
      "outputs": [
        {
          "output_type": "stream",
          "text": [
            "--2020-11-24 01:51:25--  https://s3.amazonaws.com/dl4j-distribution/GoogleNews-vectors-negative300.bin.gz\n",
            "Resolving s3.amazonaws.com (s3.amazonaws.com)... 52.216.142.102\n",
            "Connecting to s3.amazonaws.com (s3.amazonaws.com)|52.216.142.102|:443... connected.\n",
            "HTTP request sent, awaiting response... 200 OK\n",
            "Length: 1647046227 (1.5G) [application/x-gzip]\n",
            "Saving to: ‘download/GoogleNews-vectors-negative300.bin.gz’\n",
            "\n",
            "GoogleNews-vectors- 100%[===================>]   1.53G  83.3MB/s    in 23s     \n",
            "\n",
            "2020-11-24 01:51:48 (67.7 MB/s) - ‘download/GoogleNews-vectors-negative300.bin.gz’ saved [1647046227/1647046227]\n",
            "\n"
          ],
          "name": "stdout"
        }
      ]
    },
    {
      "cell_type": "markdown",
      "metadata": {
        "id": "TOgV2MYZ2isZ"
      },
      "source": [
        "# Embedding Layer"
      ]
    },
    {
      "cell_type": "code",
      "metadata": {
        "id": "0RKP5x7Ctm-S"
      },
      "source": [
        "embedding_matrix = np.zeros((vocab_size,emb_dimension))\n",
        "for word, i in word_idx.items():\n",
        "    if word in word2vec.vocab and i<vocab_size:\n",
        "        embedding_matrix[i] = word2vec.word_vec(word)"
      ],
      "execution_count": null,
      "outputs": []
    },
    {
      "cell_type": "code",
      "metadata": {
        "id": "gv0x3UEyquaf"
      },
      "source": [
        "np.save('drive/My Drive/imdb/emb.npy',embedding_matrix)"
      ],
      "execution_count": null,
      "outputs": []
    },
    {
      "cell_type": "code",
      "metadata": {
        "id": "uyNGzaYdrCee"
      },
      "source": [
        "embedding_matrix=np.load('drive/My Drive/imdb/emb.npy')"
      ],
      "execution_count": null,
      "outputs": []
    },
    {
      "cell_type": "code",
      "metadata": {
        "id": "beSSQsmyWSN8"
      },
      "source": [
        "xtrain=np.asarray(xtrain).astype('float32')\n",
        "xtest=np.asarray(xtest).astype('float32')\n",
        "ytrain=np.asarray(ytrain).astype('float32')\n",
        "ytest=np.asarray(ytest).astype('float32')\n",
        "\n",
        "train=tf.data.Dataset.from_tensor_slices((xtrain,ytrain))\n",
        "test=tf.data.Dataset.from_tensor_slices((xtest,ytest))   "
      ],
      "execution_count": null,
      "outputs": []
    },
    {
      "cell_type": "code",
      "metadata": {
        "id": "hELuyGki6dAz"
      },
      "source": [
        "train=train.batch(128)\n",
        "test=test.batch(128)"
      ],
      "execution_count": null,
      "outputs": []
    },
    {
      "cell_type": "markdown",
      "metadata": {
        "id": "cw5PvLC7TtwJ"
      },
      "source": [
        "# Model Architecture"
      ]
    },
    {
      "cell_type": "code",
      "metadata": {
        "id": "3PYQN7xhLA6n"
      },
      "source": [
        "class MyModel(Model):\n",
        "\n",
        "  def __init__(self,vocab_size,emb_dimension,embedding_matrix,filters,kernel_size):\n",
        "    super(MyModel, self).__init__()\n",
        "    self.emb=Embedding(vocab_size,emb_dimension,weights=[embedding_matrix],trainable=True)\n",
        "    self.conv=Conv1D(filters=filters, kernel_size=kernel_size,activation='relu',kernel_regularizer=tf.keras.regularizers.l2(l=0.01))\n",
        "    self.drop=Dropout(0.5)\n",
        "    self.bn=BatchNormalization()\n",
        "    self.lstm=GRU(128)\n",
        "    self.dense=Dense(1,activation='sigmoid')\n",
        "\n",
        "  def call(self,input):\n",
        "    x=self.emb(input)\n",
        "    x=self.conv(x)\n",
        "    x=self.drop(x)\n",
        "    x=self.bn(x)\n",
        "    x=self.lstm(x)\n",
        "    x=self.dense(x)\n",
        "    return x"
      ],
      "execution_count": null,
      "outputs": []
    },
    {
      "cell_type": "code",
      "metadata": {
        "id": "FaaG3NTag8t-"
      },
      "source": [
        "model=MyModel(vocab_size=vocab_size,emb_dimension=emb_dimension,embedding_matrix=embedding_matrix,filters=128,kernel_size=7)"
      ],
      "execution_count": null,
      "outputs": []
    },
    {
      "cell_type": "code",
      "metadata": {
        "id": "EEWzgNfsunF0"
      },
      "source": [
        "train_acc_metric = tf.keras.metrics.BinaryAccuracy()\n",
        "val_acc_metric = tf.keras.metrics.BinaryAccuracy()"
      ],
      "execution_count": null,
      "outputs": []
    },
    {
      "cell_type": "code",
      "metadata": {
        "id": "i642WGoCp2YW"
      },
      "source": [
        "loss=tf.keras.losses.BinaryCrossentropy()\n",
        "optimizer=RMSprop(learning_rate=0.01)\n",
        "epoch_losses = []\n",
        "total_epochs=8"
      ],
      "execution_count": null,
      "outputs": []
    },
    {
      "cell_type": "code",
      "metadata": {
        "id": "j9rf1yXOKpdN"
      },
      "source": [
        "def model_training():\n",
        "  for epoch in range(total_epochs): \n",
        "    batch_losses=[] \n",
        "    for inputs, outputs in train:\n",
        "      with tf.GradientTape() as tape:\n",
        "        current_loss = loss(model(inputs), outputs) \n",
        "        grads=tape.gradient(current_loss, model.trainable_variables) \n",
        "      optimizer.apply_gradients(zip(grads, model.trainable_variables))\n",
        "      batch_losses.append(current_loss) \n",
        "    \n",
        "      train_acc_metric.update_state(outputs,model(inputs))\n",
        "    \n",
        "    for inputs, outputs in test:\n",
        "      val_acc_metric.update_state(outputs,model(inputs))\n",
        "  \n",
        "    train_acc = train_acc_metric.result().numpy()\n",
        "    train_acc_metric.reset_states()\n",
        "\n",
        "    val_acc = val_acc_metric.result().numpy()\n",
        "    val_acc_metric.reset_states()\n",
        "\n",
        "    print(\"epoch \",epoch,\", Training acc : \" , train_acc,end=\"\")\n",
        "    print(\"  Validation acc: \",val_acc)"
      ],
      "execution_count": null,
      "outputs": []
    },
    {
      "cell_type": "code",
      "metadata": {
        "colab": {
          "base_uri": "https://localhost:8080/"
        },
        "id": "n2gBftsu7DEO",
        "outputId": "85905a99-d1fe-48b5-8c94-a2b876cdb788"
      },
      "source": [
        "model_training()"
      ],
      "execution_count": null,
      "outputs": [
        {
          "output_type": "stream",
          "text": [
            "epoch  0 , Training acc :  0.50762916  Validation acc:  0.5050303\n",
            "epoch  1 , Training acc :  0.5069675  Validation acc:  0.5002232\n",
            "epoch  2 , Training acc :  0.6597099  Validation acc:  0.7083705\n",
            "epoch  3 , Training acc :  0.85416937  Validation acc:  0.7364716\n",
            "epoch  4 , Training acc :  0.8882494  Validation acc:  0.82190686\n",
            "epoch  5 , Training acc :  0.91719544  Validation acc:  0.8573262\n",
            "epoch  6 , Training acc :  0.93346626  Validation acc:  0.8605787\n",
            "epoch  7 , Training acc :  0.93669486  Validation acc:  0.8657206\n"
          ],
          "name": "stdout"
        }
      ]
    },
    {
      "cell_type": "code",
      "metadata": {
        "colab": {
          "base_uri": "https://localhost:8080/"
        },
        "id": "IivBCRRg-Fuq",
        "outputId": "5d6701a6-db77-4a26-dee4-d0be34206409"
      },
      "source": [
        "optimizer=RMSprop(learning_rate=0.005)\n",
        "total_epochs=5\n",
        "model_training()"
      ],
      "execution_count": null,
      "outputs": [
        {
          "output_type": "stream",
          "text": [
            "epoch  0 , Training acc :  0.9466598  Validation acc:  0.8736926\n",
            "epoch  1 , Training acc :  0.9531171  Validation acc:  0.875279\n",
            "epoch  2 , Training acc :  0.9588967  Validation acc:  0.87608415\n",
            "epoch  3 , Training acc :  0.96104914  Validation acc:  0.86260366\n",
            "epoch  4 , Training acc :  0.9637596  Validation acc:  0.8741789\n"
          ],
          "name": "stdout"
        }
      ]
    },
    {
      "cell_type": "code",
      "metadata": {
        "colab": {
          "base_uri": "https://localhost:8080/"
        },
        "id": "vm5e3oj3_shj",
        "outputId": "b37dbefc-93a8-4d86-c0fc-e356c5bb08ab"
      },
      "source": [
        "optimizer=RMSprop(learning_rate=0.0001)\n",
        "total_epochs=5\n",
        "model_training()"
      ],
      "execution_count": null,
      "outputs": [
        {
          "output_type": "stream",
          "text": [
            "epoch  0 , Training acc :  0.9755084  Validation acc:  0.87727994\n",
            "epoch  1 , Training acc :  0.9758769  Validation acc:  0.8777184\n",
            "epoch  2 , Training acc :  0.9761161  Validation acc:  0.87779814\n",
            "epoch  3 , Training acc :  0.9762357  Validation acc:  0.87807715\n",
            "epoch  4 , Training acc :  0.9764748  Validation acc:  0.8782366\n"
          ],
          "name": "stdout"
        }
      ]
    },
    {
      "cell_type": "code",
      "metadata": {
        "id": "rIjKn_xDYQbb"
      },
      "source": [
        "model.save_weights('drive/My Drive/Colab_files/model_100.h5')"
      ],
      "execution_count": null,
      "outputs": []
    },
    {
      "cell_type": "code",
      "metadata": {
        "colab": {
          "base_uri": "https://localhost:8080/"
        },
        "id": "YpFtBXN2-e5h",
        "outputId": "6c5ff3d8-6718-4652-929d-6f455a140273"
      },
      "source": [
        "model.summary()"
      ],
      "execution_count": null,
      "outputs": [
        {
          "output_type": "stream",
          "text": [
            "Model: \"my_model_2\"\n",
            "_________________________________________________________________\n",
            "Layer (type)                 Output Shape              Param #   \n",
            "=================================================================\n",
            "embedding_2 (Embedding)      multiple                  1500000   \n",
            "_________________________________________________________________\n",
            "conv1d_2 (Conv1D)            multiple                  268928    \n",
            "_________________________________________________________________\n",
            "dropout (Dropout)            multiple                  0         \n",
            "_________________________________________________________________\n",
            "batch_normalization_2 (Batch multiple                  512       \n",
            "_________________________________________________________________\n",
            "gru_2 (GRU)                  multiple                  99072     \n",
            "_________________________________________________________________\n",
            "dense_2 (Dense)              multiple                  129       \n",
            "=================================================================\n",
            "Total params: 1,868,641\n",
            "Trainable params: 1,868,385\n",
            "Non-trainable params: 256\n",
            "_________________________________________________________________\n"
          ],
          "name": "stdout"
        }
      ]
    },
    {
      "cell_type": "code",
      "metadata": {
        "id": "YLOohErDfX11"
      },
      "source": [
        "model(xtrain[:2,:])\n",
        "model.load_weights('drive/My Drive/Colab_files/model_100.h5')"
      ],
      "execution_count": null,
      "outputs": []
    },
    {
      "cell_type": "code",
      "metadata": {
        "colab": {
          "background_save": true,
          "base_uri": "https://localhost:8080/"
        },
        "id": "9f_k1Tt_fwcj",
        "outputId": "7940d445-f52e-4a10-a8f0-20334be214e0"
      },
      "source": [
        "metric = tf.keras.metrics.AUC()\n",
        "for inputs, outputs in test:\n",
        "  metric.update_state(outputs,model(inputs))\n",
        "auc=metric.result().numpy()\n",
        "\n",
        "metric = tf.keras.metrics.BinaryAccuracy()\n",
        "for inputs, outputs in test:\n",
        "  metric.update_state(outputs,model(inputs))\n",
        "acc=metric.result().numpy()\n",
        "\n",
        "metric = tf.keras.metrics.Precision()\n",
        "for inputs, outputs in test:\n",
        "  metric.update_state(outputs,model(inputs))\n",
        "pre=metric.result().numpy()\n",
        "\n",
        "metric = tf.keras.metrics.Recall()\n",
        "for inputs, outputs in test:\n",
        "  metric.update_state(outputs,model(inputs))\n",
        "recall=metric.result().numpy()\n",
        "\n",
        "print('AUC: ',auc)\n",
        "print('Accuracy: ',acc)\n",
        "print('Precision: ',pre)\n",
        "print('Recall: ',recall)"
      ],
      "execution_count": null,
      "outputs": [
        {
          "output_type": "stream",
          "text": [
            "AUC:  0.9112447\n",
            "Accuracy:  0.87815684\n",
            "Precision:  0.88131356\n",
            "Recall:  0.87384\n"
          ],
          "name": "stdout"
        }
      ]
    },
    {
      "cell_type": "code",
      "metadata": {
        "id": "eJU_fJSAguQ5"
      },
      "source": [
        ""
      ],
      "execution_count": null,
      "outputs": []
    }
  ]
}